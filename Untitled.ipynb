{
 "cells": [
  {
   "cell_type": "code",
   "execution_count": 1,
   "metadata": {},
   "outputs": [
    {
     "name": "stdout",
     "output_type": "stream",
     "text": [
      "请输入高3\n",
      "请输入底4\n",
      "面积为: 6.0\n"
     ]
    }
   ],
   "source": [
    "high = input('请输入高') \n",
    "bottom = input('请输入底') \n",
    "high = float(high)\n",
    "bottom = float(bottom)\n",
    "area = high * bottom * 0.5\n",
    "print('面积为:',area)"
   ]
  },
  {
   "cell_type": "code",
   "execution_count": 4,
   "metadata": {},
   "outputs": [
    {
     "name": "stdout",
     "output_type": "stream",
     "text": [
      "0\n",
      "中奖\n"
     ]
    }
   ],
   "source": [
    "import random\n",
    "number = random. randint(0,10)\n",
    "print(number)\n",
    "if (number % 2) == 0:\n",
    "    print(\"中奖\")\n",
    "else:\n",
    "    print(\"谢谢惠顾\")"
   ]
  },
  {
   "cell_type": "code",
   "execution_count": null,
   "metadata": {},
   "outputs": [],
   "source": []
  }
 ],
 "metadata": {
  "kernelspec": {
   "display_name": "Python 3",
   "language": "python",
   "name": "python3"
  },
  "language_info": {
   "codemirror_mode": {
    "name": "ipython",
    "version": 3
   },
   "file_extension": ".py",
   "mimetype": "text/x-python",
   "name": "python",
   "nbconvert_exporter": "python",
   "pygments_lexer": "ipython3",
   "version": "3.7.3"
  }
 },
 "nbformat": 4,
 "nbformat_minor": 2
}
